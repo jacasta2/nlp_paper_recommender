{
 "cells": [
  {
   "cell_type": "code",
   "execution_count": 1,
   "metadata": {},
   "outputs": [],
   "source": [
    "import urllib.request"
   ]
  },
  {
   "cell_type": "code",
   "execution_count": 3,
   "metadata": {},
   "outputs": [
    {
     "name": "stdout",
     "output_type": "stream",
     "text": [
      "<http://dx.doi.org/10.1016/j.ijpe.2018.12.024>; rel=\"canonical\", <https://api.elsevier.com/content/article/PII:S0925527318305024?httpAccept=text/xml>; version=\"vor\"; type=\"text/xml\"; rel=\"item\", <https://api.elsevier.com/content/article/PII:S0925527318305024?httpAccept=text/plain>; version=\"vor\"; type=\"text/plain\"; rel=\"item\", <https://www.elsevier.com/tdm/userlicense/1.0/>; version=\"tdm\"; rel=\"license\", <http://www.elsevier.com/open-access/userlicense/1.0/>; version=\"am\"; rel=\"license\"\n"
     ]
    }
   ],
   "source": [
    "opener = urllib.request.build_opener()\n",
    "opener.addheaders = [('Accept', 'application/vnd.crossref.unixsd+xml')]\n",
    "r = opener.open('https://doi.org/10.1016/j.ijpe.2018.12.024')\n",
    "print (r.info()['Link'])"
   ]
  },
  {
   "cell_type": "code",
   "execution_count": 5,
   "metadata": {},
   "outputs": [
    {
     "name": "stdout",
     "output_type": "stream",
     "text": [
      "date: Tue, 24 Oct 2023 22:04:56 GMT\n",
      "content-type: application/vnd.crossref.unixsd+xml\n",
      "transfer-encoding: chunked\n",
      "vary: Accept\n",
      "link: <http://dx.doi.org/10.1016/j.ijpe.2018.12.024>; rel=\"canonical\", <https://api.elsevier.com/content/article/PII:S0925527318305024?httpAccept=text/xml>; version=\"vor\"; type=\"text/xml\"; rel=\"item\", <https://api.elsevier.com/content/article/PII:S0925527318305024?httpAccept=text/plain>; version=\"vor\"; type=\"text/plain\"; rel=\"item\", <https://www.elsevier.com/tdm/userlicense/1.0/>; version=\"tdm\"; rel=\"license\", <http://www.elsevier.com/open-access/userlicense/1.0/>; version=\"am\"; rel=\"license\"\n",
      "access-control-expose-headers: Link\n",
      "access-control-allow-headers: X-Requested-With, Accept, Accept-Encoding, Accept-Charset, Accept-Language, Accept-Ranges, Cache-Control\n",
      "access-control-allow-origin: *\n",
      "server: Jetty(9.4.40.v20210413)\n",
      "x-ratelimit-limit: 50\n",
      "x-ratelimit-interval: 1s\n",
      "x-api-pool: public\n",
      "x-rate-limit-limit: 50\n",
      "x-rate-limit-interval: 1s\n",
      "permissions-policy: interest-cohort=()\n",
      "connection: close\n",
      "\n",
      "\n"
     ]
    }
   ],
   "source": [
    "print(r.info())"
   ]
  },
  {
   "cell_type": "markdown",
   "metadata": {},
   "source": [
    "Testing the API in the browser:\n",
    "\n",
    "```http\n",
    "https://api.crossref.org/works?query.author=jaime+andres+castaneda&select=DOI,title,abstract&facet=container-title:production+economics\n",
    "```"
   ]
  }
 ],
 "metadata": {
  "kernelspec": {
   "display_name": "Python 3",
   "language": "python",
   "name": "python3"
  },
  "language_info": {
   "codemirror_mode": {
    "name": "ipython",
    "version": 3
   },
   "file_extension": ".py",
   "mimetype": "text/x-python",
   "name": "python",
   "nbconvert_exporter": "python",
   "pygments_lexer": "ipython3",
   "version": "3.11.5"
  }
 },
 "nbformat": 4,
 "nbformat_minor": 2
}
